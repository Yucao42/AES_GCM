{
 "cells": [
  {
   "cell_type": "code",
   "execution_count": 45,
   "metadata": {},
   "outputs": [
    {
     "name": "stdout",
     "output_type": "stream",
     "text": [
      "16\n"
     ]
    }
   ],
   "source": [
    "import pyaes\n",
    "\n",
    "#################################STAGE 1###############################################\n",
    "\n",
    "# A 128 bit (16 byte) key\n",
    "key = bytes.fromhex('00' * 16)\n",
    "print(len(key))\n",
    "# For some modes of operation we need a random initialization vector\n",
    "# of 16 bytes\n",
    "iv = \"CAFEBABEFACEDBADDECAF888\"\n",
    "iv = '00' * 12\n",
    "iv = bytes.fromhex(iv)\n",
    "\n",
    "aes = pyaes.AESModeOfOperationECB(key)\n",
    "plaintext = bytes.fromhex(\"00\"* 16)\n",
    "H = ciphertext = aes.encrypt(plaintext)\n",
    "# H.hex()"
   ]
  },
  {
   "cell_type": "code",
   "execution_count": 79,
   "metadata": {},
   "outputs": [
    {
     "name": "stdout",
     "output_type": "stream",
     "text": [
      "0388dace60b6a392f328c2b971b2fe78f795aaab494b5923f7fd89ff948bc1e0 39691d1ab70a22084ae9337c697c3bee\n"
     ]
    }
   ],
   "source": [
    "import pyaes\n",
    "import math\n",
    "\n",
    "class AES_GCM_128:\n",
    "    \n",
    "    def __init__(self, i_key):\n",
    "        assert len(i_key) == 16, 'This class supports 128-bit key only!'\n",
    "        self.i_key = i_key\n",
    "        \n",
    "        # Plain text and aad size\n",
    "        self.plt_size = 0\n",
    "        self.aad_size = 0\n",
    "            \n",
    "    def update_i_key(self, new_key):\n",
    "        self.i_key = new_key\n",
    "        \n",
    "    @property\n",
    "    def aes(self):\n",
    "        return pyaes.AESModeOfOperationECB(self.i_key)\n",
    "        \n",
    "    @property\n",
    "    def H(self):\n",
    "        return self.aes().encrypt(bytes.fromhex(\"00\"* 16))\n",
    "         \n",
    "    @staticmethod\n",
    "    def xor(a, b):\n",
    "        return bytes([aa^bb for aa, bb in zip(a, b)])\n",
    "\n",
    "    def gctr(self, iv, x, phase='encrypt'):\n",
    "        cb = []\n",
    "        offset = 2 if phase == 'encrypt' else 1\n",
    "#         print(len(iv))\n",
    "        for i in range(10):\n",
    "#             print(iv + b'\\x00' * 3 + bytes([i]))\n",
    "            cb.append(iv + b'\\x00' * 3 + bytes([i]))\n",
    "        if x == \"\":\n",
    "            return ''\n",
    "        y = []\n",
    "        n = math.ceil(len(x) / 16)\n",
    "        for j in range(n):\n",
    "            cb_ = cb[j + offset]\n",
    "#             print('cb_ length ', len(cb_))\n",
    "            ciphed = self.aes.encrypt(cb_)\n",
    "            y.append(xor(x[j* 16 : j* 16 + 16], ciphed))\n",
    "        return y\n",
    "    \n",
    "    @staticmethod\n",
    "    def shiftright(a):\n",
    "        leng = len(a)\n",
    "        carry = 0\n",
    "        res = []\n",
    "        for i in range(leng):\n",
    "            swap = a[i] % 2\n",
    "            res.append(a[i] // 2 + carry * (pow(2, 7)))\n",
    "            carry = swap\n",
    "        return bytes(res)\n",
    "    \n",
    "    @staticmethod\n",
    "    def hashmul(x, y):\n",
    "        z = b'\\x00' * 16 \n",
    "        v = y\n",
    "        ele = b'\\xe1' + b'\\x00' * 15\n",
    "\n",
    "        for i in x:\n",
    "            num = i\n",
    "            for j in range(8):\n",
    "                div = pow(2, 7 - j)\n",
    "                here = num // div\n",
    "                num = num % div\n",
    "\n",
    "                if here == 1:\n",
    "                    z = xor(z, v)\n",
    "                if v[-1] % 2 == 0:\n",
    "                    v = shiftright(v)\n",
    "                else:\n",
    "                    v = shiftright(v)\n",
    "                    v = xor(v, ele)\n",
    "        return z\n",
    "\n",
    "    def cal_size(self, aad, pt):\n",
    "        self.aad_size = (len(aad) * 8).to_bytes(8, 'big')\n",
    "        self.plt_size = (len(pt) * 8).to_bytes(8, 'big')\n",
    "        \n",
    "    def encrypt(self, iv, aad, pt):\n",
    "        # Encrypt the text\n",
    "        self.cal_size(aad, pt)\n",
    "        j0 = iv + b'00' * 3 + b'01'\n",
    "        yy = self.gctr(iv, pt)\n",
    "        C= b''\n",
    "        for y in yy:\n",
    "            C = C+ y  \n",
    "        \n",
    "        # Generate the tag\n",
    "        y1 = b'\\x00' * 16\n",
    "        xx = aad + C + self.aad_size + self.plt_size\n",
    "        for i in range(len(xx) // 16):\n",
    "            y1 = hashmul(xor(xx[i * 16:i * 16 +16], y1), H)\n",
    "        S = y1\n",
    "        t = self.gctr(iv, S, 'tag')\n",
    "        T = t[0]\n",
    "        return C, T\n",
    "        \n",
    "if __name__ == '__main__':\n",
    "    key = bytes.fromhex('00' * 16)\n",
    "    iv = bytes.fromhex('00' * 12)\n",
    "    pt = bytes.fromhex('00' * 32)\n",
    "    aad = bytes.fromhex('00' * 16)\n",
    "\n",
    "    gcm_aes = AES_GCM_128(key)\n",
    "    C, t = gcm_aes.encrypt(iv, aad, pt)\n",
    "    print( C.hex(), T.hex())"
   ]
  },
  {
   "cell_type": "code",
   "execution_count": 59,
   "metadata": {},
   "outputs": [
    {
     "data": {
      "text/plain": [
       "'0388dace60b6a392f328c2b971b2fe78f795aaab494b5923f7fd89ff948bc1e0'"
      ]
     },
     "execution_count": 59,
     "metadata": {},
     "output_type": "execute_result"
    }
   ],
   "source": [
    "#################################STAGE 2 - 3###############################################\n",
    "\n",
    "# X is the plaintext\n",
    "# ICB is the increased J0\n",
    "# Key is key\n",
    "pt = bytes.fromhex('D9313225 F88406E5 A55909C5 AFF5269A 86A7A953 1534F7DA 2E4C303D 8A318A72 1C3C0C95 95680953 2FCF0E24 49A6B525 B16AEDF5 AA0DE657 BA637B39 1AAFD255')\n",
    "aad = bytes.fromhex('3AD77BB4 0D7A3660 A89ECAF3 2466EF97 F5D3D585 03B9699D E785895A 96FDBAAF 43B1CD7F 598ECE23 881B00E3 ED030688 7B0C785E 27E8AD3F 82232071 04725DD4')\n",
    "# key = '00' * 16\n",
    "\n",
    "pt = bytes.fromhex('00' * 32)\n",
    "aad = bytes.fromhex('00' * 16)\n",
    "\n",
    "j0 = iv + b'00' * 3 + b'01'\n",
    "import math\n",
    "def xor(a, b):\n",
    "    return bytes([aa^bb for aa, bb in zip(a, b)])\n",
    "        \n",
    "def gctr(icb, key, x):\n",
    "    cb = []\n",
    "    for i in range(16):\n",
    "        cb.append(iv + b'\\x00' * 3 + bytes([i]))\n",
    "    if x == \"\":\n",
    "        return ''\n",
    "    y = []\n",
    "    n = math.ceil(len(x)/16)\n",
    "#     print(cb[2])\n",
    "    for j in range(n):\n",
    "        cb_ = cb[j + 2]\n",
    "        ciphed = aes.encrypt(cb_)\n",
    "        y.append(xor(x[j* 16 : j* 16 + 16], ciphed))\n",
    "    return y\n",
    "    \n",
    "yy = gctr(j0, key, pt)\n",
    "C= b''\n",
    "for y in yy:\n",
    "    C = C+ y\n",
    "C.hex()"
   ]
  },
  {
   "cell_type": "code",
   "execution_count": 47,
   "metadata": {},
   "outputs": [],
   "source": [
    "#################################STAGE 4 5 6###############################################\n",
    "# u = aad + C + 3 * b'\\x00' + bytes()\n",
    "def shiftright(a):\n",
    "    leng = len(a)\n",
    "    carry = 0\n",
    "    res = []\n",
    "    for i in range(leng):\n",
    "        swap = a[i] % 2\n",
    "        res.append(a[i] // 2 + carry * (pow(2, 7)))\n",
    "        carry = swap\n",
    "    return bytes(res)\n",
    "        \n",
    "def gctr1(icb, key, x):\n",
    "    cb = []\n",
    "    for i in range(16):\n",
    "        cb.append(iv + b'\\x00' * 3 + bytes([i]))\n",
    "    if x == \"\":\n",
    "        return ''\n",
    "    y = []\n",
    "    n = math.ceil(len(x)/16)\n",
    "#     print(cb[2])\n",
    "    for j in range(n):\n",
    "        cb_ = cb[j + 1]\n",
    "        ciphed = aes.encrypt(cb_)\n",
    "        y.append(xor(x[j* 16 : j* 16 + 16], ciphed))\n",
    "    return y\n",
    "\n",
    "def hashmul(x, y):\n",
    "    z = b'\\x00' * 16 \n",
    "    v = y\n",
    "    ele = b'\\xe1' + b'\\x00' * 15\n",
    "    \n",
    "    for i in x:\n",
    "        num = i\n",
    "        for j in range(8):\n",
    "            div = pow(2, 7 - j)\n",
    "            here = num // div\n",
    "            num = num % div\n",
    "            \n",
    "            if here == 1:\n",
    "                z = xor(z, v)\n",
    "            if v[-1] % 2 == 0:\n",
    "                v = shiftright(v)\n",
    "            else:\n",
    "                v = shiftright(v)\n",
    "                v = xor(v, ele)\n",
    "    return z\n",
    "y1 = b'\\x00' * 16\n",
    "xx = aad + C + b'\\x00' * 7 + b'\\x80' +  b'\\x00' * 6 + b'\\x01'  + b'\\x00' \n",
    "\n",
    "for i in range(4):\n",
    "    y1 = hashmul(xor(xx[i * 16:i * 16 +16], y1), H)\n",
    "S = y1\n",
    "t = gctr1(j0, key, S)\n",
    "T = t[0]"
   ]
  },
  {
   "cell_type": "code",
   "execution_count": 82,
   "metadata": {
    "scrolled": true
   },
   "outputs": [
    {
     "name": "stdout",
     "output_type": "stream",
     "text": [
      "S is\n",
      "\t\t 618be1d44d7412697c962e2bcd9b7eb4\n",
      "\n",
      "C is\t\t\n"
     ]
    },
    {
     "ename": "TypeError",
     "evalue": "unsupported operand type(s) for /: 'bytes' and 'int'",
     "output_type": "error",
     "traceback": [
      "\u001b[0;31m---------------------------------------------------------------------------\u001b[0m",
      "\u001b[0;31mTypeError\u001b[0m                                 Traceback (most recent call last)",
      "\u001b[0;32m<ipython-input-82-7c999c1c4931>\u001b[0m in \u001b[0;36m<module>\u001b[0;34m()\u001b[0m\n\u001b[1;32m      1\u001b[0m \u001b[0mprint\u001b[0m\u001b[0;34m(\u001b[0m\u001b[0;34m'S is\\n\\t\\t'\u001b[0m\u001b[0;34m,\u001b[0m \u001b[0mS\u001b[0m\u001b[0;34m.\u001b[0m\u001b[0mhex\u001b[0m\u001b[0;34m(\u001b[0m\u001b[0;34m)\u001b[0m\u001b[0;34m)\u001b[0m\u001b[0;34m\u001b[0m\u001b[0m\n\u001b[1;32m      2\u001b[0m \u001b[0mprint\u001b[0m\u001b[0;34m(\u001b[0m\u001b[0;34m'\\nC is\\t\\t'\u001b[0m\u001b[0;34m)\u001b[0m\u001b[0;34m\u001b[0m\u001b[0m\n\u001b[0;32m----> 3\u001b[0;31m \u001b[0;32mfor\u001b[0m \u001b[0mi\u001b[0m \u001b[0;32min\u001b[0m \u001b[0mrange\u001b[0m\u001b[0;34m(\u001b[0m\u001b[0;34m(\u001b[0m\u001b[0mlen\u001b[0m\u001b[0;34m(\u001b[0m\u001b[0mpt\u001b[0m\u001b[0;34m)\u001b[0m \u001b[0;34m*\u001b[0m \u001b[0;36m8\u001b[0m\u001b[0;34m)\u001b[0m\u001b[0;34m.\u001b[0m\u001b[0mto_bytes\u001b[0m\u001b[0;34m(\u001b[0m\u001b[0;36m8\u001b[0m\u001b[0;34m,\u001b[0m \u001b[0;34m'big'\u001b[0m\u001b[0;34m)\u001b[0m \u001b[0;34m/\u001b[0m \u001b[0;36m128\u001b[0m\u001b[0;34m)\u001b[0m\u001b[0;34m:\u001b[0m\u001b[0;34m\u001b[0m\u001b[0m\n\u001b[0m\u001b[1;32m      4\u001b[0m     \u001b[0mprint\u001b[0m\u001b[0;34m(\u001b[0m\u001b[0;34m'\\t\\t'\u001b[0m\u001b[0;34m,\u001b[0m \u001b[0mC\u001b[0m\u001b[0;34m[\u001b[0m\u001b[0mi\u001b[0m \u001b[0;34m*\u001b[0m \u001b[0;36m16\u001b[0m\u001b[0;34m:\u001b[0m\u001b[0mi\u001b[0m \u001b[0;34m*\u001b[0m \u001b[0;36m16\u001b[0m \u001b[0;34m+\u001b[0m\u001b[0;36m16\u001b[0m\u001b[0;34m]\u001b[0m\u001b[0;34m.\u001b[0m\u001b[0mhex\u001b[0m\u001b[0;34m(\u001b[0m\u001b[0;34m)\u001b[0m\u001b[0;34m)\u001b[0m\u001b[0;34m\u001b[0m\u001b[0m\n\u001b[1;32m      5\u001b[0m \u001b[0mprint\u001b[0m\u001b[0;34m(\u001b[0m\u001b[0;34m'\\nTag is\\n'\u001b[0m\u001b[0;34m,\u001b[0m\u001b[0;34m'\\t\\t'\u001b[0m\u001b[0;34m,\u001b[0m\u001b[0mT\u001b[0m\u001b[0;34m.\u001b[0m\u001b[0mhex\u001b[0m\u001b[0;34m(\u001b[0m\u001b[0;34m)\u001b[0m\u001b[0;34m)\u001b[0m\u001b[0;34m\u001b[0m\u001b[0m\n",
      "\u001b[0;31mTypeError\u001b[0m: unsupported operand type(s) for /: 'bytes' and 'int'"
     ]
    }
   ],
   "source": [
    "print('S is\\n\\t\\t', S.hex())\n",
    "print('\\nC is\\t\\t')\n",
    "for i in range((len(pt) * 8).to_bytes(8, 'big') / 128):\n",
    "    print('\\t\\t', C[i * 16:i * 16 +16].hex())\n",
    "print('\\nTag is\\n','\\t\\t',T.hex())"
   ]
  },
  {
   "cell_type": "code",
   "execution_count": 53,
   "metadata": {},
   "outputs": [
    {
     "name": "stdout",
     "output_type": "stream",
     "text": [
      "16\n",
      "32\n"
     ]
    },
    {
     "data": {
      "text/plain": [
       "b'\\x00\\x00\\x00\\x00\\x00\\x00\\x01\\x00'"
      ]
     },
     "execution_count": 53,
     "metadata": {},
     "output_type": "execute_result"
    }
   ],
   "source": [
    "def cal_size(aad, pt):\n",
    "    print(len(aad))\n",
    "    print(len(pt))\n",
    "    return (len(pt) * 8).to_bytes(8, 'big')\n",
    "pt = bytes.fromhex('00' * 32)\n",
    "aad = bytes.fromhex('00' * 16)   \n",
    "cal_size(aad, pt)"
   ]
  },
  {
   "cell_type": "code",
   "execution_count": null,
   "metadata": {},
   "outputs": [],
   "source": []
  }
 ],
 "metadata": {
  "kernelspec": {
   "display_name": "Python 3",
   "language": "python",
   "name": "python3"
  },
  "language_info": {
   "codemirror_mode": {
    "name": "ipython",
    "version": 3
   },
   "file_extension": ".py",
   "mimetype": "text/x-python",
   "name": "python",
   "nbconvert_exporter": "python",
   "pygments_lexer": "ipython3",
   "version": "3.7.0"
  }
 },
 "nbformat": 4,
 "nbformat_minor": 2
}
