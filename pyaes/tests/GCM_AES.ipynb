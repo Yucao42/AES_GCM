{
 "cells": [
  {
   "cell_type": "code",
   "execution_count": 15,
   "metadata": {},
   "outputs": [
    {
     "name": "stdout",
     "output_type": "stream",
     "text": [
      "16\n"
     ]
    },
    {
     "data": {
      "text/plain": [
       "'66e94bd4ef8a2c3b884cfa59ca342b2e'"
      ]
     },
     "execution_count": 15,
     "metadata": {},
     "output_type": "execute_result"
    }
   ],
   "source": [
    "import pyaes\n",
    "\n",
    "#################################STAGE 1###############################################\n",
    "\n",
    "# A 128 bit (16 byte) key\n",
    "key = bytes.fromhex('00' * 16)\n",
    "print(len(key))\n",
    "# For some modes of operation we need a random initialization vector\n",
    "# of 16 bytes\n",
    "iv = \"CAFEBABEFACEDBADDECAF888\"\n",
    "iv = '00' * 12\n",
    "iv = bytes.fromhex(iv)\n",
    "\n",
    "aes = pyaes.AESModeOfOperationECB(key)\n",
    "plaintext = bytes.fromhex(\"00\"* 16)\n",
    "H = ciphertext = aes.encrypt(plaintext)\n",
    "H.hex()"
   ]
  },
  {
   "cell_type": "code",
   "execution_count": 10,
   "metadata": {},
   "outputs": [
    {
     "data": {
      "text/plain": [
       "False"
      ]
     },
     "execution_count": 10,
     "metadata": {},
     "output_type": "execute_result"
    }
   ],
   "source": [
    "b1 = \"B83B5337 08BF535D 0AA6E529 80D53B78\"\n",
    "c = bytes.fromhex(b1);c.hex()\n",
    "c == ciphertext"
   ]
  },
  {
   "cell_type": "code",
   "execution_count": 16,
   "metadata": {},
   "outputs": [],
   "source": [
    "#################################STAGE 2 - 3###############################################\n",
    "\n",
    "# X is the plaintext\n",
    "# ICB is the increased J0\n",
    "# Key is key\n",
    "pt = bytes.fromhex('D9313225 F88406E5 A55909C5 AFF5269A 86A7A953 1534F7DA 2E4C303D 8A318A72 1C3C0C95 95680953 2FCF0E24 49A6B525 B16AEDF5 AA0DE657 BA637B39 1AAFD255')\n",
    "aad = bytes.fromhex('3AD77BB4 0D7A3660 A89ECAF3 2466EF97 F5D3D585 03B9699D E785895A 96FDBAAF 43B1CD7F 598ECE23 881B00E3 ED030688 7B0C785E 27E8AD3F 82232071 04725DD4')\n",
    "# key = '00' * 16\n",
    "\n",
    "pt = bytes.fromhex('00' * 16)\n",
    "aad = bytes.fromhex('00' * 16)\n",
    "\n",
    "j0 = iv + b'00' * 3 + b'01'\n",
    "import math\n",
    "def xor(a, b):\n",
    "    return bytes([aa^bb for aa, bb in zip(a, b)])\n",
    "        \n",
    "def gctr(icb, key, x):\n",
    "    cb = []\n",
    "    for i in range(16):\n",
    "        cb.append(iv + b'\\x00' * 3 + bytes([i]))\n",
    "    if x == \"\":\n",
    "        return ''\n",
    "    y = []\n",
    "    n = math.ceil(len(x)/16)\n",
    "#     print(cb[2])\n",
    "    for j in range(n):\n",
    "        cb_ = cb[j + 2]\n",
    "        ciphed = aes.encrypt(cb_)\n",
    "        y.append(xor(x[j* 16 : j* 16 + 16], ciphed))\n",
    "    return y\n",
    "    \n",
    "yy = gctr(j0, key, pt)\n",
    "C= b''\n",
    "for y in yy:\n",
    "    C = C+ y"
   ]
  },
  {
   "cell_type": "code",
   "execution_count": 21,
   "metadata": {},
   "outputs": [],
   "source": [
    "#################################STAGE 4 5 6###############################################\n",
    "# u = aad + C + 3 * b'\\x00' + bytes()\n",
    "def shiftright(a):\n",
    "    leng = len(a)\n",
    "    carry = 0\n",
    "    res = []\n",
    "    for i in range(leng):\n",
    "        swap = a[i] % 2\n",
    "        res.append(a[i] // 2 + carry * (pow(2, 7)))\n",
    "        carry = swap\n",
    "    return bytes(res)\n",
    "        \n",
    "def gctr1(icb, key, x):\n",
    "    cb = []\n",
    "    for i in range(16):\n",
    "        cb.append(iv + b'\\x00' * 3 + bytes([i]))\n",
    "    if x == \"\":\n",
    "        return ''\n",
    "    y = []\n",
    "    n = math.ceil(len(x)/16)\n",
    "#     print(cb[2])\n",
    "    for j in range(n):\n",
    "        cb_ = cb[j + 1]\n",
    "        ciphed = aes.encrypt(cb_)\n",
    "        y.append(xor(x[j* 16 : j* 16 + 16], ciphed))\n",
    "    return y\n",
    "\n",
    "def hashmul(x, y):\n",
    "    z = b'\\x00' * 16 \n",
    "    v = y\n",
    "    ele = b'\\xe1' + b'\\x00' * 15\n",
    "    \n",
    "    for i in x:\n",
    "        num = i\n",
    "        for j in range(8):\n",
    "            div = pow(2, 7 - j)\n",
    "            here = num // div\n",
    "            num = num % div\n",
    "            \n",
    "            if here == 1:\n",
    "                z = xor(z, v)\n",
    "            if v[-1] % 2 == 0:\n",
    "                v = shiftright(v)\n",
    "            else:\n",
    "                v = shiftright(v)\n",
    "                v = xor(v, ele)\n",
    "    return z\n",
    "y1 = b'\\x00' * 16\n",
    "xx = aad + C + b'\\x00' * 7 + b'\\x80' +  b'\\x00' * 7 + b'\\x80' \n",
    "\n",
    "for i in range(3):\n",
    "    y1 = hashmul(xor(xx[i * 16:i * 16 +16], y1), H)\n",
    "S = y1\n",
    "t = gctr1(j0, key, S)\n",
    "T = t[0]"
   ]
  },
  {
   "cell_type": "code",
   "execution_count": 26,
   "metadata": {
    "scrolled": true
   },
   "outputs": [
    {
     "name": "stdout",
     "output_type": "stream",
     "text": [
      "S is\n",
      "\t\t 8aacacf4e1ce07662a0eae0a3c9cc30d\n",
      "\n",
      "C is\t\t\n",
      "\t\t 0388dace60b6a392f328c2b971b2fe78\n",
      "\n",
      "Tag is\n",
      " \t\t d24e503a1bb037071c71b35d987b8657\n"
     ]
    }
   ],
   "source": [
    "print('S is\\n\\t\\t', S.hex())\n",
    "print('\\nC is\\t\\t')\n",
    "for i in range(1):\n",
    "    print('\\t\\t', C[i * 16:i * 16 +16].hex())\n",
    "print('\\nTag is\\n','\\t\\t',T.hex())"
   ]
  },
  {
   "cell_type": "code",
   "execution_count": null,
   "metadata": {},
   "outputs": [],
   "source": []
  }
 ],
 "metadata": {
  "kernelspec": {
   "display_name": "Python 3",
   "language": "python",
   "name": "python3"
  },
  "language_info": {
   "codemirror_mode": {
    "name": "ipython",
    "version": 3
   },
   "file_extension": ".py",
   "mimetype": "text/x-python",
   "name": "python",
   "nbconvert_exporter": "python",
   "pygments_lexer": "ipython3",
   "version": "3.7.0"
  }
 },
 "nbformat": 4,
 "nbformat_minor": 2
}
