{
 "cells": [
  {
   "cell_type": "code",
   "execution_count": 26,
   "metadata": {},
   "outputs": [
    {
     "name": "stdout",
     "output_type": "stream",
     "text": [
      "Result should be  c7c1cb44806a1ca47fb59a951846de3a\n"
     ]
    }
   ],
   "source": [
    "import pyaes\n",
    "\n",
    "def encryt128(k, i, p, a='0'):\n",
    "    #################################STAGE 1###############################################\n",
    "    ##### Key round generation\n",
    "    key = bytes.fromhex(k * 32)\n",
    "    iv  = bytes.fromhex(i * 12)\n",
    "    pt  = bytes.fromhex(p * 32)\n",
    "    aad = bytes.fromhex(a * 32)\n",
    "\n",
    "    ##### Calculate H\n",
    "    aes = pyaes.AESModeOfOperationECB(key)\n",
    "    plaintext = bytes.fromhex(\"0\"* 32)\n",
    "    H = ciphertext = aes.encrypt(plaintext)\n",
    "\n",
    "    #################################STAGE 2 - 3###############################################\n",
    "\n",
    "    ##### Cipher text calculation\n",
    "    j0 = iv + b'00' * 3 + b'01'\n",
    "    import math\n",
    "    def xor(a, b):\n",
    "        return bytes([aa^bb for aa, bb in zip(a, b)])\n",
    "\n",
    "    def gctr(icb, key, x):\n",
    "        cb = []\n",
    "        for i in range(16):\n",
    "            cb.append(iv + b'\\x00' * 3 + bytes([i]))\n",
    "        if x == \"\":\n",
    "            return ''\n",
    "        y = []\n",
    "        n = math.ceil(len(x)/16)\n",
    "        for j in range(n):\n",
    "            cb_ = cb[j + 2]\n",
    "            ciphed = aes.encrypt(cb_)\n",
    "            y.append(xor(x[j* 16 : j* 16 + 16], ciphed))\n",
    "        return y\n",
    "    yy = gctr(j0, key, pt)\n",
    "    C= b''\n",
    "    for y in yy:\n",
    "        C = C+ y\n",
    "    return C.hex()\n",
    "\n",
    "##### Put your button input here.\n",
    "k = 'a'\n",
    "p = 'c'\n",
    "##### Note: switch 0-3 is higher 4-bit, 4-7 is lower bit\n",
    "##### E.G.  switch 7-0 \"1110 0101\" is \"a7\"\n",
    "i = 'a7'\n",
    "\n",
    "print(\"Result should be \", encryt128(k, i, p))"
   ]
  },
  {
   "cell_type": "code",
   "execution_count": null,
   "metadata": {},
   "outputs": [],
   "source": []
  },
  {
   "cell_type": "code",
   "execution_count": null,
   "metadata": {},
   "outputs": [],
   "source": []
  }
 ],
 "metadata": {
  "kernelspec": {
   "display_name": "Python 3",
   "language": "python",
   "name": "python3"
  },
  "language_info": {
   "codemirror_mode": {
    "name": "ipython",
    "version": 3
   },
   "file_extension": ".py",
   "mimetype": "text/x-python",
   "name": "python",
   "nbconvert_exporter": "python",
   "pygments_lexer": "ipython3",
   "version": "3.7.0"
  }
 },
 "nbformat": 4,
 "nbformat_minor": 2
}
